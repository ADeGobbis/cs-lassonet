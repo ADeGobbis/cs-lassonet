{
 "cells": [
  {
   "cell_type": "code",
   "execution_count": 3,
   "metadata": {},
   "outputs": [],
   "source": [
    "from sklearn.datasets import fetch_openml\n",
    "from sklearn.preprocessing import LabelEncoder\n",
    "from sklearn.model_selection import train_test_split\n",
    "from sklearn.metrics import accuracy_score\n",
    "import matplotlib.pyplot as plt\n",
    "\n",
    "from lassonet import LassoNetClassifier"
   ]
  },
  {
   "cell_type": "code",
   "execution_count": 4,
   "metadata": {},
   "outputs": [
    {
     "ename": "AttributeError",
     "evalue": "'numpy.ndarray' object has no attribute 'isin'",
     "output_type": "error",
     "traceback": [
      "\u001b[0;31m--------------------------------------------------\u001b[0m",
      "\u001b[0;31mAttributeError\u001b[0m   Traceback (most recent call last)",
      "\u001b[0;32m<ipython-input-4-2e5a997d588e>\u001b[0m in \u001b[0;36m<module>\u001b[0;34m\u001b[0m\n\u001b[1;32m      1\u001b[0m \u001b[0mX\u001b[0m\u001b[0;34m,\u001b[0m \u001b[0my\u001b[0m \u001b[0;34m=\u001b[0m \u001b[0mfetch_openml\u001b[0m\u001b[0;34m(\u001b[0m\u001b[0mname\u001b[0m\u001b[0;34m=\u001b[0m\u001b[0;34m\"mnist_784\"\u001b[0m\u001b[0;34m,\u001b[0m \u001b[0mreturn_X_y\u001b[0m\u001b[0;34m=\u001b[0m\u001b[0;32mTrue\u001b[0m\u001b[0;34m)\u001b[0m\u001b[0;34m\u001b[0m\u001b[0m\n\u001b[0;32m----> 2\u001b[0;31m \u001b[0mfilter\u001b[0m \u001b[0;34m=\u001b[0m \u001b[0my\u001b[0m\u001b[0;34m.\u001b[0m\u001b[0misin\u001b[0m\u001b[0;34m(\u001b[0m\u001b[0;34m[\u001b[0m\u001b[0;34m\"5\"\u001b[0m\u001b[0;34m,\u001b[0m \u001b[0;34m\"6\"\u001b[0m\u001b[0;34m]\u001b[0m\u001b[0;34m)\u001b[0m\u001b[0;34m\u001b[0m\u001b[0m\n\u001b[0m\u001b[1;32m      3\u001b[0m \u001b[0mX\u001b[0m \u001b[0;34m=\u001b[0m \u001b[0mX\u001b[0m\u001b[0;34m[\u001b[0m\u001b[0mfilter\u001b[0m\u001b[0;34m]\u001b[0m\u001b[0;34m.\u001b[0m\u001b[0mvalues\u001b[0m \u001b[0;34m/\u001b[0m \u001b[0;36m255\u001b[0m\u001b[0;34m\u001b[0m\u001b[0m\n\u001b[1;32m      4\u001b[0m \u001b[0my\u001b[0m \u001b[0;34m=\u001b[0m \u001b[0mLabelEncoder\u001b[0m\u001b[0;34m(\u001b[0m\u001b[0;34m)\u001b[0m\u001b[0;34m.\u001b[0m\u001b[0mfit_transform\u001b[0m\u001b[0;34m(\u001b[0m\u001b[0my\u001b[0m\u001b[0;34m[\u001b[0m\u001b[0mfilter\u001b[0m\u001b[0;34m]\u001b[0m\u001b[0;34m)\u001b[0m\u001b[0;34m\u001b[0m\u001b[0m\n\u001b[1;32m      5\u001b[0m \u001b[0;34m\u001b[0m\u001b[0m\n",
      "\u001b[0;31mAttributeError\u001b[0m: 'numpy.ndarray' object has no attribute 'isin'"
     ]
    }
   ],
   "source": [
    "X, y = fetch_openml(name=\"mnist_784\", return_X_y=True)\n",
    "filter = y.isin([\"5\", \"6\"])\n",
    "X = X[filter].values / 255\n",
    "y = LabelEncoder().fit_transform(y[filter])\n",
    "\n",
    "X_train, X_test, y_train, y_test = train_test_split(X, y)\n",
    "\n",
    "model = LassoNetClassifier(M=30, verbose=True)\n",
    "path = model.path(X_train, y_train)"
   ]
  },
  {
   "cell_type": "code",
   "execution_count": null,
   "metadata": {},
   "outputs": [],
   "source": [
    "img = model.feature_importances_.reshape(28, 28)\n",
    "\n",
    "plt.title(\"Feature importance to discriminate 5 and 6\")\n",
    "plt.imshow(img)\n",
    "plt.colorbar()\n",
    "plt.savefig(\"mnist-classification-importance.png\")\n",
    "\n",
    "n_selected = []\n",
    "accuracy = []\n",
    "lambda_ = []\n",
    "\n",
    "for save in path:\n",
    "    model.load(save.state_dict)\n",
    "    y_pred = model.predict(X_test)\n",
    "    n_selected.append(save.selected.sum())\n",
    "    accuracy.append(accuracy_score(y_test, y_pred))\n",
    "    lambda_.append(save.lambda_)\n",
    "\n",
    "to_plot = [160, 220, 300]\n",
    "\n",
    "for i, save in zip(n_selected, path):\n",
    "    if not to_plot:\n",
    "        break\n",
    "    if i > to_plot[-1]:\n",
    "        continue\n",
    "    to_plot.pop()\n",
    "    plt.clf()\n",
    "    plt.title(f\"Linear model with {i} features\")\n",
    "    weight = save.state_dict[\"skip.weight\"]\n",
    "    img = (weight[1] - weight[0]).reshape(28, 28)\n",
    "    plt.imshow(img)\n",
    "    plt.colorbar()\n",
    "    plt.savefig(f\"mnist-classification-{i}.png\")\n",
    "\n",
    "fig = plt.figure(figsize=(12, 12))\n",
    "\n",
    "plt.subplot(311)\n",
    "plt.grid(True)\n",
    "plt.plot(n_selected, accuracy, \".-\")\n",
    "plt.xlabel(\"number of selected features\")\n",
    "plt.ylabel(\"classification accuracy\")\n",
    "\n",
    "plt.subplot(312)\n",
    "plt.grid(True)\n",
    "plt.plot(lambda_, accuracy, \".-\")\n",
    "plt.xlabel(\"lambda\")\n",
    "plt.xscale(\"log\")\n",
    "plt.ylabel(\"classification accuracy\")\n",
    "\n",
    "plt.subplot(313)\n",
    "plt.grid(True)\n",
    "plt.plot(lambda_, n_selected, \".-\")\n",
    "plt.xlabel(\"lambda\")\n",
    "plt.xscale(\"log\")\n",
    "plt.ylabel(\"number of selected features\")\n",
    "\n",
    "plt.savefig(\"mnist-classification-training.png\")\n"
   ]
  }
 ],
 "metadata": {
  "kernelspec": {
   "display_name": "Python [conda env:.conda-lassonet]",
   "language": "python",
   "name": "conda-env-.conda-lassonet-py"
  },
  "language_info": {
   "codemirror_mode": {
    "name": "ipython",
    "version": 3
   },
   "file_extension": ".py",
   "mimetype": "text/x-python",
   "name": "python",
   "nbconvert_exporter": "python",
   "pygments_lexer": "ipython3",
   "version": "3.6.5"
  }
 },
 "nbformat": 4,
 "nbformat_minor": 4
}
